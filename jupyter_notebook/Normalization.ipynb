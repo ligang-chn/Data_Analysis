{
 "cells": [
  {
   "cell_type": "markdown",
   "metadata": {},
   "source": [
    "### 数据归一化处理"
   ]
  },
  {
   "cell_type": "code",
   "execution_count": 1,
   "metadata": {},
   "outputs": [],
   "source": [
    "import numpy as np\n",
    "import matplotlib.pyplot as plt"
   ]
  },
  {
   "cell_type": "markdown",
   "metadata": {},
   "source": [
    "#### 最值归一化 Normalization"
   ]
  },
  {
   "cell_type": "code",
   "execution_count": 2,
   "metadata": {},
   "outputs": [],
   "source": [
    "x=np.random.randint(0,100,size=100)"
   ]
  },
  {
   "cell_type": "code",
   "execution_count": 3,
   "metadata": {},
   "outputs": [
    {
     "data": {
      "text/plain": [
       "array([60, 67, 60, 20, 77, 65, 35, 40, 23, 90, 89,  2, 30, 75, 87, 45, 84,\n",
       "       16, 98, 13, 97, 41, 83, 76, 94,  2, 69, 68, 20, 88, 31,  1, 81, 16,\n",
       "       69, 73, 86, 10, 25, 63, 50, 46, 20, 24, 92, 66,  3, 32, 80, 25, 68,\n",
       "       24, 63, 96,  5, 69, 77, 82, 32, 46,  7, 65, 30, 55,  7, 65, 17, 37,\n",
       "       29, 58,  8, 45, 71, 98, 29, 87, 97,  9, 47, 42, 44, 42, 15,  2, 37,\n",
       "       19, 15, 14, 44, 91, 95,  2, 43, 59, 25, 42, 24, 24, 73,  6])"
      ]
     },
     "execution_count": 3,
     "metadata": {},
     "output_type": "execute_result"
    }
   ],
   "source": [
    "x"
   ]
  },
  {
   "cell_type": "code",
   "execution_count": 16,
   "metadata": {},
   "outputs": [],
   "source": [
    "x_max=np.max(x)"
   ]
  },
  {
   "cell_type": "code",
   "execution_count": 17,
   "metadata": {},
   "outputs": [],
   "source": [
    "x_min=np.min(x)"
   ]
  },
  {
   "cell_type": "code",
   "execution_count": 18,
   "metadata": {},
   "outputs": [],
   "source": [
    "d=x_max-x_min"
   ]
  },
  {
   "cell_type": "code",
   "execution_count": 19,
   "metadata": {},
   "outputs": [
    {
     "data": {
      "text/plain": [
       "97"
      ]
     },
     "execution_count": 19,
     "metadata": {},
     "output_type": "execute_result"
    }
   ],
   "source": [
    "d"
   ]
  },
  {
   "cell_type": "code",
   "execution_count": 22,
   "metadata": {},
   "outputs": [],
   "source": [
    "x_scale=[]\n",
    "for i in x:\n",
    "    x_scale.append((i-x_min)/d)"
   ]
  },
  {
   "cell_type": "code",
   "execution_count": 23,
   "metadata": {},
   "outputs": [
    {
     "data": {
      "text/plain": [
       "[0.6082474226804123,\n",
       " 0.6804123711340206,\n",
       " 0.6082474226804123,\n",
       " 0.1958762886597938,\n",
       " 0.7835051546391752,\n",
       " 0.6597938144329897,\n",
       " 0.35051546391752575,\n",
       " 0.4020618556701031,\n",
       " 0.2268041237113402,\n",
       " 0.9175257731958762,\n",
       " 0.9072164948453608,\n",
       " 0.010309278350515464,\n",
       " 0.29896907216494845,\n",
       " 0.7628865979381443,\n",
       " 0.8865979381443299,\n",
       " 0.4536082474226804,\n",
       " 0.8556701030927835,\n",
       " 0.15463917525773196,\n",
       " 1.0,\n",
       " 0.12371134020618557,\n",
       " 0.9896907216494846,\n",
       " 0.41237113402061853,\n",
       " 0.845360824742268,\n",
       " 0.7731958762886598,\n",
       " 0.9587628865979382,\n",
       " 0.010309278350515464,\n",
       " 0.7010309278350515,\n",
       " 0.6907216494845361,\n",
       " 0.1958762886597938,\n",
       " 0.8969072164948454,\n",
       " 0.30927835051546393,\n",
       " 0.0,\n",
       " 0.8247422680412371,\n",
       " 0.15463917525773196,\n",
       " 0.7010309278350515,\n",
       " 0.7422680412371134,\n",
       " 0.8762886597938144,\n",
       " 0.09278350515463918,\n",
       " 0.24742268041237114,\n",
       " 0.6391752577319587,\n",
       " 0.5051546391752577,\n",
       " 0.4639175257731959,\n",
       " 0.1958762886597938,\n",
       " 0.23711340206185566,\n",
       " 0.9381443298969072,\n",
       " 0.6701030927835051,\n",
       " 0.020618556701030927,\n",
       " 0.31958762886597936,\n",
       " 0.8144329896907216,\n",
       " 0.24742268041237114,\n",
       " 0.6907216494845361,\n",
       " 0.23711340206185566,\n",
       " 0.6391752577319587,\n",
       " 0.979381443298969,\n",
       " 0.041237113402061855,\n",
       " 0.7010309278350515,\n",
       " 0.7835051546391752,\n",
       " 0.8350515463917526,\n",
       " 0.31958762886597936,\n",
       " 0.4639175257731959,\n",
       " 0.061855670103092786,\n",
       " 0.6597938144329897,\n",
       " 0.29896907216494845,\n",
       " 0.5567010309278351,\n",
       " 0.061855670103092786,\n",
       " 0.6597938144329897,\n",
       " 0.16494845360824742,\n",
       " 0.3711340206185567,\n",
       " 0.28865979381443296,\n",
       " 0.5876288659793815,\n",
       " 0.07216494845360824,\n",
       " 0.4536082474226804,\n",
       " 0.7216494845360825,\n",
       " 1.0,\n",
       " 0.28865979381443296,\n",
       " 0.8865979381443299,\n",
       " 0.9896907216494846,\n",
       " 0.08247422680412371,\n",
       " 0.4742268041237113,\n",
       " 0.422680412371134,\n",
       " 0.44329896907216493,\n",
       " 0.422680412371134,\n",
       " 0.14432989690721648,\n",
       " 0.010309278350515464,\n",
       " 0.3711340206185567,\n",
       " 0.18556701030927836,\n",
       " 0.14432989690721648,\n",
       " 0.13402061855670103,\n",
       " 0.44329896907216493,\n",
       " 0.9278350515463918,\n",
       " 0.9690721649484536,\n",
       " 0.010309278350515464,\n",
       " 0.4329896907216495,\n",
       " 0.5979381443298969,\n",
       " 0.24742268041237114,\n",
       " 0.422680412371134,\n",
       " 0.23711340206185566,\n",
       " 0.23711340206185566,\n",
       " 0.7422680412371134,\n",
       " 0.05154639175257732]"
      ]
     },
     "execution_count": 23,
     "metadata": {},
     "output_type": "execute_result"
    }
   ],
   "source": [
    "x_scale"
   ]
  },
  {
   "cell_type": "code",
   "execution_count": 24,
   "metadata": {},
   "outputs": [
    {
     "data": {
      "text/plain": [
       "array([0.60824742, 0.68041237, 0.60824742, 0.19587629, 0.78350515,\n",
       "       0.65979381, 0.35051546, 0.40206186, 0.22680412, 0.91752577,\n",
       "       0.90721649, 0.01030928, 0.29896907, 0.7628866 , 0.88659794,\n",
       "       0.45360825, 0.8556701 , 0.15463918, 1.        , 0.12371134,\n",
       "       0.98969072, 0.41237113, 0.84536082, 0.77319588, 0.95876289,\n",
       "       0.01030928, 0.70103093, 0.69072165, 0.19587629, 0.89690722,\n",
       "       0.30927835, 0.        , 0.82474227, 0.15463918, 0.70103093,\n",
       "       0.74226804, 0.87628866, 0.09278351, 0.24742268, 0.63917526,\n",
       "       0.50515464, 0.46391753, 0.19587629, 0.2371134 , 0.93814433,\n",
       "       0.67010309, 0.02061856, 0.31958763, 0.81443299, 0.24742268,\n",
       "       0.69072165, 0.2371134 , 0.63917526, 0.97938144, 0.04123711,\n",
       "       0.70103093, 0.78350515, 0.83505155, 0.31958763, 0.46391753,\n",
       "       0.06185567, 0.65979381, 0.29896907, 0.55670103, 0.06185567,\n",
       "       0.65979381, 0.16494845, 0.37113402, 0.28865979, 0.58762887,\n",
       "       0.07216495, 0.45360825, 0.72164948, 1.        , 0.28865979,\n",
       "       0.88659794, 0.98969072, 0.08247423, 0.4742268 , 0.42268041,\n",
       "       0.44329897, 0.42268041, 0.1443299 , 0.01030928, 0.37113402,\n",
       "       0.18556701, 0.1443299 , 0.13402062, 0.44329897, 0.92783505,\n",
       "       0.96907216, 0.01030928, 0.43298969, 0.59793814, 0.24742268,\n",
       "       0.42268041, 0.2371134 , 0.2371134 , 0.74226804, 0.05154639])"
      ]
     },
     "execution_count": 24,
     "metadata": {},
     "output_type": "execute_result"
    }
   ],
   "source": [
    "(x-np.min(x))/(np.max(x)-np.min(x))"
   ]
  },
  {
   "cell_type": "code",
   "execution_count": 25,
   "metadata": {},
   "outputs": [],
   "source": [
    "X=np.random.randint(0,100,(50,2))"
   ]
  },
  {
   "cell_type": "code",
   "execution_count": 26,
   "metadata": {},
   "outputs": [
    {
     "data": {
      "text/plain": [
       "array([[ 0, 13],\n",
       "       [26, 97],\n",
       "       [52,  2],\n",
       "       [99, 57],\n",
       "       [91, 38],\n",
       "       [91, 82],\n",
       "       [88, 94],\n",
       "       [40, 42],\n",
       "       [87, 19],\n",
       "       [72, 38],\n",
       "       [18, 53],\n",
       "       [ 6, 92],\n",
       "       [54, 98],\n",
       "       [54,  8],\n",
       "       [11, 51],\n",
       "       [36, 67],\n",
       "       [25, 68],\n",
       "       [40, 19],\n",
       "       [87,  6],\n",
       "       [37, 93],\n",
       "       [62, 50],\n",
       "       [37, 21],\n",
       "       [ 6, 48],\n",
       "       [80, 99],\n",
       "       [19, 18],\n",
       "       [54, 89],\n",
       "       [60, 65],\n",
       "       [24, 25],\n",
       "       [46, 48],\n",
       "       [ 5, 43],\n",
       "       [35, 94],\n",
       "       [99, 95],\n",
       "       [68, 61],\n",
       "       [57,  9],\n",
       "       [73, 75],\n",
       "       [78, 88],\n",
       "       [16, 94],\n",
       "       [29, 13],\n",
       "       [26, 96],\n",
       "       [25, 91],\n",
       "       [89,  2],\n",
       "       [36, 14],\n",
       "       [53, 71],\n",
       "       [ 8, 81],\n",
       "       [66, 32],\n",
       "       [31, 11],\n",
       "       [22, 61],\n",
       "       [27, 88],\n",
       "       [17,  4],\n",
       "       [31, 47]])"
      ]
     },
     "execution_count": 26,
     "metadata": {},
     "output_type": "execute_result"
    }
   ],
   "source": [
    "X"
   ]
  },
  {
   "cell_type": "code",
   "execution_count": 27,
   "metadata": {},
   "outputs": [],
   "source": [
    "X=np.array(X,dtype=float)"
   ]
  },
  {
   "cell_type": "code",
   "execution_count": 28,
   "metadata": {},
   "outputs": [
    {
     "data": {
      "text/plain": [
       "array([[ 0., 13.],\n",
       "       [26., 97.],\n",
       "       [52.,  2.],\n",
       "       [99., 57.],\n",
       "       [91., 38.],\n",
       "       [91., 82.],\n",
       "       [88., 94.],\n",
       "       [40., 42.],\n",
       "       [87., 19.],\n",
       "       [72., 38.]])"
      ]
     },
     "execution_count": 28,
     "metadata": {},
     "output_type": "execute_result"
    }
   ],
   "source": [
    "X[:10,:]"
   ]
  },
  {
   "cell_type": "code",
   "execution_count": 30,
   "metadata": {},
   "outputs": [],
   "source": [
    "X[:,0]=(X[:,0]-np.min(X[:,0]))/(np.max(X[:,0])-np.min(X[:,0]))"
   ]
  },
  {
   "cell_type": "code",
   "execution_count": 31,
   "metadata": {},
   "outputs": [
    {
     "data": {
      "text/plain": [
       "array([0.        , 0.26262626, 0.52525253, 1.        , 0.91919192,\n",
       "       0.91919192, 0.88888889, 0.4040404 , 0.87878788, 0.72727273,\n",
       "       0.18181818, 0.06060606, 0.54545455, 0.54545455, 0.11111111,\n",
       "       0.36363636, 0.25252525, 0.4040404 , 0.87878788, 0.37373737,\n",
       "       0.62626263, 0.37373737, 0.06060606, 0.80808081, 0.19191919,\n",
       "       0.54545455, 0.60606061, 0.24242424, 0.46464646, 0.05050505,\n",
       "       0.35353535, 1.        , 0.68686869, 0.57575758, 0.73737374,\n",
       "       0.78787879, 0.16161616, 0.29292929, 0.26262626, 0.25252525,\n",
       "       0.8989899 , 0.36363636, 0.53535354, 0.08080808, 0.66666667,\n",
       "       0.31313131, 0.22222222, 0.27272727, 0.17171717, 0.31313131])"
      ]
     },
     "execution_count": 31,
     "metadata": {},
     "output_type": "execute_result"
    }
   ],
   "source": [
    "X[:,0]"
   ]
  },
  {
   "cell_type": "code",
   "execution_count": 32,
   "metadata": {},
   "outputs": [],
   "source": [
    "X[:,1]=(X[:,1]-np.min(X[:,1]))/(np.max(X[:,1])-np.min(X[:,1]))"
   ]
  },
  {
   "cell_type": "code",
   "execution_count": 33,
   "metadata": {},
   "outputs": [
    {
     "data": {
      "text/plain": [
       "array([[0.        , 0.11340206],\n",
       "       [0.26262626, 0.97938144],\n",
       "       [0.52525253, 0.        ],\n",
       "       [1.        , 0.56701031],\n",
       "       [0.91919192, 0.37113402],\n",
       "       [0.91919192, 0.82474227],\n",
       "       [0.88888889, 0.94845361],\n",
       "       [0.4040404 , 0.41237113],\n",
       "       [0.87878788, 0.17525773],\n",
       "       [0.72727273, 0.37113402]])"
      ]
     },
     "execution_count": 33,
     "metadata": {},
     "output_type": "execute_result"
    }
   ],
   "source": [
    "X[:10,:]"
   ]
  },
  {
   "cell_type": "code",
   "execution_count": 34,
   "metadata": {},
   "outputs": [
    {
     "data": {
      "text/plain": [
       "<matplotlib.collections.PathCollection at 0x1aec47a0c88>"
      ]
     },
     "execution_count": 34,
     "metadata": {},
     "output_type": "execute_result"
    },
    {
     "data": {
      "image/png": "[encoded data removed]",
      "text/plain": [
       "<Figure size 432x288 with 1 Axes>"
      ]
     },
     "metadata": {
      "needs_background": "light"
     },
     "output_type": "display_data"
    }
   ],
   "source": [
    "plt.scatter(X[:,0],X[:,1])"
   ]
  },
  {
   "cell_type": "markdown",
   "metadata": {},
   "source": [
    "#### 均值方差归一化 Standardization"
   ]
  },
  {
   "cell_type": "code",
   "execution_count": 36,
   "metadata": {},
   "outputs": [],
   "source": [
    "X2=np.random.randint(0,100,(50,2))\n",
    "X2=np.array(X2,dtype=float)"
   ]
  },
  {
   "cell_type": "code",
   "execution_count": 37,
   "metadata": {},
   "outputs": [],
   "source": [
    "X2[:,0]=(X2[:,0]-np.mean(X2[:,0]))/np.std(X2[:,0])"
   ]
  },
  {
   "cell_type": "code",
   "execution_count": 38,
   "metadata": {},
   "outputs": [],
   "source": [
    "X2[:,1]=(X2[:,1]-np.mean(X2[:,1]))/np.std(X2[:,1])"
   ]
  },
  {
   "cell_type": "code",
   "execution_count": 39,
   "metadata": {},
   "outputs": [
    {
     "data": {
      "text/plain": [
       "<matplotlib.collections.PathCollection at 0x1aec5b1c898>"
      ]
     },
     "execution_count": 39,
     "metadata": {},
     "output_type": "execute_result"
    },
    {
     "data": {
      "image/png": "[encoded data removed]",
      "text/plain": [
       "<Figure size 432x288 with 1 Axes>"
      ]
     },
     "metadata": {
      "needs_background": "light"
     },
     "output_type": "display_data"
    }
   ],
   "source": [
    "plt.scatter(X2[:,0],X2[:,1])"
   ]
  },
  {
   "cell_type": "code",
   "execution_count": 40,
   "metadata": {},
   "outputs": [
    {
     "data": {
      "text/plain": [
       "-1.2212453270876723e-16"
      ]
     },
     "execution_count": 40,
     "metadata": {},
     "output_type": "execute_result"
    }
   ],
   "source": [
    "np.mean(X2[:,1])"
   ]
  },
  {
   "cell_type": "code",
   "execution_count": null,
   "metadata": {},
   "outputs": [],
   "source": []
  }
 ],
 "metadata": {
  "kernelspec": {
   "display_name": "Python [conda env:Anaconda3]",
   "language": "python",
   "name": "conda-env-Anaconda3-py"
  },
  "language_info": {
   "codemirror_mode": {
    "name": "ipython",
    "version": 3
   },
   "file_extension": ".py",
   "mimetype": "text/x-python",
   "name": "python",
   "nbconvert_exporter": "python",
   "pygments_lexer": "ipython3",
   "version": "3.7.3"
  }
 },
 "nbformat": 4,
 "nbformat_minor": 2
}
